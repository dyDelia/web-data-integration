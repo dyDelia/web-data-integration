{
 "cells": [
  {
   "cell_type": "code",
   "execution_count": 2,
   "metadata": {},
   "outputs": [],
   "source": [
    "# %pip install Levenshtein\n",
    "import numpy as np\n",
    "import pandas as pd\n",
    "import Levenshtein as lev\n",
    "from itertools import product"
   ]
  },
  {
   "cell_type": "code",
   "execution_count": 22,
   "metadata": {},
   "outputs": [],
   "source": [
    "# sevMil = pd.read_csv(\"companies_sorted.csv\")\n",
    "ft = pd.read_csv(\"Forbes_top 2000_2022.csv\")\n",
    "db = pd.read_csv(\"sparql_2022-10-02_13-24-07Z.csv\")"
   ]
  },
  {
   "cell_type": "code",
   "execution_count": 4,
   "metadata": {},
   "outputs": [],
   "source": [
    "sevMil = sevMil[['name']]\n",
    "sevMil['id'] =  range(len(sevMil))\n",
    "sevMil['id'] = \"7.1M_\" + sevMil['id'].astype(str)"
   ]
  },
  {
   "cell_type": "code",
   "execution_count": 26,
   "metadata": {},
   "outputs": [],
   "source": [
    "ft = ft[['organizationName']]\n",
    "ft['id'] =  range(len(ft))\n",
    "ft['id'] = \"ft_\" + ft['id'].astype(str)"
   ]
  },
  {
   "cell_type": "code",
   "execution_count": 27,
   "metadata": {},
   "outputs": [
    {
     "name": "stderr",
     "output_type": "stream",
     "text": [
      "<ipython-input-27-49af2a1eed77>:2: SettingWithCopyWarning: \n",
      "A value is trying to be set on a copy of a slice from a DataFrame.\n",
      "Try using .loc[row_indexer,col_indexer] = value instead\n",
      "\n",
      "See the caveats in the documentation: https://pandas.pydata.org/pandas-docs/stable/user_guide/indexing.html#returning-a-view-versus-a-copy\n",
      "  dbpedia['id'] =  range(len(db))\n",
      "<ipython-input-27-49af2a1eed77>:3: SettingWithCopyWarning: \n",
      "A value is trying to be set on a copy of a slice from a DataFrame.\n",
      "Try using .loc[row_indexer,col_indexer] = value instead\n",
      "\n",
      "See the caveats in the documentation: https://pandas.pydata.org/pandas-docs/stable/user_guide/indexing.html#returning-a-view-versus-a-copy\n",
      "  dbpedia['id'] = \"db_\" + dbpedia['id'].astype(str)\n"
     ]
    }
   ],
   "source": [
    "dbpedia = db[['name']]\n",
    "dbpedia['id'] =  range(len(db))\n",
    "dbpedia['id'] = \"db_\" + dbpedia['id'].astype(str)"
   ]
  },
  {
   "cell_type": "code",
   "execution_count": 28,
   "metadata": {},
   "outputs": [],
   "source": [
    "new_df = pd.DataFrame(product(ft['organizationName'], dbpedia['name']), columns=[\"ft\",\"dbpedia\"])\n",
    "\n",
    "new_df[\"LevScore\"] = new_df.apply(lambda x: lev.ratio(x[0],x[1]), axis=1)"
   ]
  },
  {
   "cell_type": "code",
   "execution_count": 29,
   "metadata": {},
   "outputs": [],
   "source": [
    "new_df2 = new_df[new_df['LevScore'] > 0.8]"
   ]
  },
  {
   "cell_type": "code",
   "execution_count": 30,
   "metadata": {},
   "outputs": [],
   "source": [
    "confirmed_true = new_df2[new_df2['LevScore'] == 1]\n",
    "edge_cases = new_df2[new_df2['LevScore'] != 1]"
   ]
  },
  {
   "cell_type": "code",
   "execution_count": 31,
   "metadata": {},
   "outputs": [],
   "source": [
    "true_sample = confirmed_true.sample(200)\n",
    "false_sample = edge_cases.sample(200)"
   ]
  },
  {
   "cell_type": "code",
   "execution_count": 33,
   "metadata": {},
   "outputs": [
    {
     "data": {
      "text/html": [
       "<div>\n",
       "<style scoped>\n",
       "    .dataframe tbody tr th:only-of-type {\n",
       "        vertical-align: middle;\n",
       "    }\n",
       "\n",
       "    .dataframe tbody tr th {\n",
       "        vertical-align: top;\n",
       "    }\n",
       "\n",
       "    .dataframe thead th {\n",
       "        text-align: right;\n",
       "    }\n",
       "</style>\n",
       "<table border=\"1\" class=\"dataframe\">\n",
       "  <thead>\n",
       "    <tr style=\"text-align: right;\">\n",
       "      <th></th>\n",
       "      <th>ft_id</th>\n",
       "      <th>db_id</th>\n",
       "      <th>LevScore</th>\n",
       "      <th>ft</th>\n",
       "      <th>dbpedia</th>\n",
       "      <th>label</th>\n",
       "    </tr>\n",
       "  </thead>\n",
       "  <tbody>\n",
       "    <tr>\n",
       "      <th>0</th>\n",
       "      <td>ft_1443</td>\n",
       "      <td>db_738</td>\n",
       "      <td>1.000000</td>\n",
       "      <td>Kimco Realty</td>\n",
       "      <td>Kimco Realty</td>\n",
       "      <td>True</td>\n",
       "    </tr>\n",
       "    <tr>\n",
       "      <th>1</th>\n",
       "      <td>ft_1402</td>\n",
       "      <td>db_1440</td>\n",
       "      <td>1.000000</td>\n",
       "      <td>Mitsubishi Materials</td>\n",
       "      <td>Mitsubishi Materials</td>\n",
       "      <td>True</td>\n",
       "    </tr>\n",
       "    <tr>\n",
       "      <th>2</th>\n",
       "      <td>ft_838</td>\n",
       "      <td>db_1450</td>\n",
       "      <td>1.000000</td>\n",
       "      <td>TDK</td>\n",
       "      <td>TDK</td>\n",
       "      <td>True</td>\n",
       "    </tr>\n",
       "    <tr>\n",
       "      <th>3</th>\n",
       "      <td>ft_310</td>\n",
       "      <td>db_4133</td>\n",
       "      <td>1.000000</td>\n",
       "      <td>Macquarie Group</td>\n",
       "      <td>Macquarie Group</td>\n",
       "      <td>True</td>\n",
       "    </tr>\n",
       "    <tr>\n",
       "      <th>4</th>\n",
       "      <td>ft_807</td>\n",
       "      <td>db_2629</td>\n",
       "      <td>1.000000</td>\n",
       "      <td>Mapfre</td>\n",
       "      <td>Mapfre</td>\n",
       "      <td>True</td>\n",
       "    </tr>\n",
       "    <tr>\n",
       "      <th>...</th>\n",
       "      <td>...</td>\n",
       "      <td>...</td>\n",
       "      <td>...</td>\n",
       "      <td>...</td>\n",
       "      <td>...</td>\n",
       "      <td>...</td>\n",
       "    </tr>\n",
       "    <tr>\n",
       "      <th>401</th>\n",
       "      <td>ft_426</td>\n",
       "      <td>db_5217</td>\n",
       "      <td>0.875000</td>\n",
       "      <td>DNB Bank</td>\n",
       "      <td>DBS Bank</td>\n",
       "      <td>False</td>\n",
       "    </tr>\n",
       "    <tr>\n",
       "      <th>402</th>\n",
       "      <td>ft_1712</td>\n",
       "      <td>db_6106</td>\n",
       "      <td>0.812500</td>\n",
       "      <td>Sumec Corporation</td>\n",
       "      <td>SPX Corporation</td>\n",
       "      <td>False</td>\n",
       "    </tr>\n",
       "    <tr>\n",
       "      <th>403</th>\n",
       "      <td>ft_846</td>\n",
       "      <td>db_1633</td>\n",
       "      <td>0.823529</td>\n",
       "      <td>MTN Group</td>\n",
       "      <td>BT Group</td>\n",
       "      <td>False</td>\n",
       "    </tr>\n",
       "    <tr>\n",
       "      <th>404</th>\n",
       "      <td>ft_808</td>\n",
       "      <td>db_4429</td>\n",
       "      <td>0.812500</td>\n",
       "      <td>HCL Technologies</td>\n",
       "      <td>TOA Technologies</td>\n",
       "      <td>False</td>\n",
       "    </tr>\n",
       "    <tr>\n",
       "      <th>405</th>\n",
       "      <td>ft_549</td>\n",
       "      <td>db_1595</td>\n",
       "      <td>0.920000</td>\n",
       "      <td>Air Products &amp; Chemicals</td>\n",
       "      <td>Air Products and Chemicals</td>\n",
       "      <td>False</td>\n",
       "    </tr>\n",
       "  </tbody>\n",
       "</table>\n",
       "<p>406 rows × 6 columns</p>\n",
       "</div>"
      ],
      "text/plain": [
       "       ft_id    db_id  LevScore                        ft  \\\n",
       "0    ft_1443   db_738  1.000000              Kimco Realty   \n",
       "1    ft_1402  db_1440  1.000000      Mitsubishi Materials   \n",
       "2     ft_838  db_1450  1.000000                       TDK   \n",
       "3     ft_310  db_4133  1.000000           Macquarie Group   \n",
       "4     ft_807  db_2629  1.000000                    Mapfre   \n",
       "..       ...      ...       ...                       ...   \n",
       "401   ft_426  db_5217  0.875000                  DNB Bank   \n",
       "402  ft_1712  db_6106  0.812500         Sumec Corporation   \n",
       "403   ft_846  db_1633  0.823529                 MTN Group   \n",
       "404   ft_808  db_4429  0.812500          HCL Technologies   \n",
       "405   ft_549  db_1595  0.920000  Air Products & Chemicals   \n",
       "\n",
       "                        dbpedia  label  \n",
       "0                  Kimco Realty   True  \n",
       "1          Mitsubishi Materials   True  \n",
       "2                           TDK   True  \n",
       "3               Macquarie Group   True  \n",
       "4                        Mapfre   True  \n",
       "..                          ...    ...  \n",
       "401                    DBS Bank  False  \n",
       "402             SPX Corporation  False  \n",
       "403                    BT Group  False  \n",
       "404            TOA Technologies  False  \n",
       "405  Air Products and Chemicals  False  \n",
       "\n",
       "[406 rows x 6 columns]"
      ]
     },
     "execution_count": 33,
     "metadata": {},
     "output_type": "execute_result"
    }
   ],
   "source": [
    "gold_standard_ft_db = pd.concat([true_sample,false_sample])\n",
    "gold_standard_ft_db = gold_standard_ft_db.merge(ft, how='left', left_on='ft', right_on='organizationName')\n",
    "gold_standard_ft_db.rename(columns={'id':'ft_id'}, inplace = True)\n",
    "gold_standard_ft_db = gold_standard_ft_db.merge(dbpedia, how = 'left', left_on = 'dbpedia', right_on = 'name')\n",
    "gold_standard_ft_db.rename(columns={'id':'db_id'}, inplace = True)\n",
    "gold_standard_ft_db = gold_standard_ft_db[['ft_id', 'db_id', 'LevScore', 'ft', 'dbpedia']]\n",
    "gold_standard_ft_db['label'] = gold_standard_ft_db.apply(lambda x: True if x['LevScore'] == 1 else False, axis = 1)\n",
    "gold_standard_ft_db"
   ]
  },
  {
   "cell_type": "code",
   "execution_count": null,
   "metadata": {},
   "outputs": [],
   "source": []
  }
 ],
 "metadata": {
  "kernelspec": {
   "display_name": "Python 3.8.6 64-bit",
   "language": "python",
   "name": "python3"
  },
  "language_info": {
   "codemirror_mode": {
    "name": "ipython",
    "version": 3
   },
   "file_extension": ".py",
   "mimetype": "text/x-python",
   "name": "python",
   "nbconvert_exporter": "python",
   "pygments_lexer": "ipython3",
   "version": "3.8.6"
  },
  "orig_nbformat": 4,
  "vscode": {
   "interpreter": {
    "hash": "0adcc2737ebf6a4a119f135174df96668767fca1ef1112612db5ecadf2b6d608"
   }
  }
 },
 "nbformat": 4,
 "nbformat_minor": 2
}
