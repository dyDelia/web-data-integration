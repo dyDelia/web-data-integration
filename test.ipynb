{
 "cells": [
  {
   "cell_type": "code",
   "execution_count": 2,
   "metadata": {},
   "outputs": [],
   "source": [
    "import numpy as np\n",
    "import pandas as pd\n",
    "import Levenshtein as lev\n",
    "from itertools import product"
   ]
  },
  {
   "cell_type": "code",
   "execution_count": 3,
   "metadata": {},
   "outputs": [],
   "source": [
    "sevMil = pd.read_csv(\"companies_sorted.csv\")\n",
    "ft = pd.read_csv(\"Forbes Top2000 2017.csv\")\n",
    "db = pd.read_csv(\"sparql_2022-10-02_13-24-07Z.csv\")"
   ]
  },
  {
   "cell_type": "code",
   "execution_count": 4,
   "metadata": {},
   "outputs": [],
   "source": [
    "sevMil = sevMil[['name']]\n",
    "sevMil['id'] =  range(len(sevMil))\n",
    "sevMil['id'] = \"7.1M_\" + sevMil['id'].astype(str)"
   ]
  },
  {
   "cell_type": "code",
   "execution_count": 5,
   "metadata": {},
   "outputs": [],
   "source": [
    "ft = ft[['Company']]\n",
    "ft['id'] =  range(len(ft))\n",
    "ft['id'] = \"ft_\" + ft['id'].astype(str)"
   ]
  },
  {
   "cell_type": "code",
   "execution_count": 6,
   "metadata": {},
   "outputs": [
    {
     "name": "stderr",
     "output_type": "stream",
     "text": [
      "C:\\Users\\seewe\\AppData\\Local\\Temp\\ipykernel_22080\\118899998.py:2: SettingWithCopyWarning: \n",
      "A value is trying to be set on a copy of a slice from a DataFrame.\n",
      "Try using .loc[row_indexer,col_indexer] = value instead\n",
      "\n",
      "See the caveats in the documentation: https://pandas.pydata.org/pandas-docs/stable/user_guide/indexing.html#returning-a-view-versus-a-copy\n",
      "  dbpedia['id'] =  range(len(db))\n",
      "C:\\Users\\seewe\\AppData\\Local\\Temp\\ipykernel_22080\\118899998.py:3: SettingWithCopyWarning: \n",
      "A value is trying to be set on a copy of a slice from a DataFrame.\n",
      "Try using .loc[row_indexer,col_indexer] = value instead\n",
      "\n",
      "See the caveats in the documentation: https://pandas.pydata.org/pandas-docs/stable/user_guide/indexing.html#returning-a-view-versus-a-copy\n",
      "  dbpedia['id'] = \"db_\" + dbpedia['id'].astype(str)\n"
     ]
    }
   ],
   "source": [
    "dbpedia = db[['name']]\n",
    "dbpedia['id'] =  range(len(db))\n",
    "dbpedia['id'] = \"db_\" + dbpedia['id'].astype(str)"
   ]
  },
  {
   "cell_type": "code",
   "execution_count": 7,
   "metadata": {},
   "outputs": [],
   "source": [
    "new_df = pd.DataFrame(product(ft['Company'], dbpedia['name']), columns=[\"ft\",\"dbpedia\"])\n",
    "\n",
    "new_df[\"LevScore\"] = new_df.apply(lambda x: lev.ratio(x[0],x[1]), axis=1)"
   ]
  },
  {
   "cell_type": "code",
   "execution_count": 8,
   "metadata": {},
   "outputs": [],
   "source": [
    "new_df2 = new_df[new_df['LevScore'] > 0.8]"
   ]
  },
  {
   "cell_type": "code",
   "execution_count": 9,
   "metadata": {},
   "outputs": [],
   "source": [
    "confirmed_true = new_df2[new_df2['LevScore'] == 1]\n",
    "edge_cases = new_df2[new_df2['LevScore'] != 1]"
   ]
  },
  {
   "cell_type": "code",
   "execution_count": 10,
   "metadata": {},
   "outputs": [],
   "source": [
    "true_sample = confirmed_true.sample(200)\n",
    "false_sample = edge_cases.sample(200)"
   ]
  },
  {
   "cell_type": "code",
   "execution_count": 11,
   "metadata": {},
   "outputs": [
    {
     "data": {
      "text/html": [
       "<div>\n",
       "<style scoped>\n",
       "    .dataframe tbody tr th:only-of-type {\n",
       "        vertical-align: middle;\n",
       "    }\n",
       "\n",
       "    .dataframe tbody tr th {\n",
       "        vertical-align: top;\n",
       "    }\n",
       "\n",
       "    .dataframe thead th {\n",
       "        text-align: right;\n",
       "    }\n",
       "</style>\n",
       "<table border=\"1\" class=\"dataframe\">\n",
       "  <thead>\n",
       "    <tr style=\"text-align: right;\">\n",
       "      <th></th>\n",
       "      <th>ft_id</th>\n",
       "      <th>db_id</th>\n",
       "      <th>LevScore</th>\n",
       "      <th>ft</th>\n",
       "      <th>dbpedia</th>\n",
       "      <th>label</th>\n",
       "    </tr>\n",
       "  </thead>\n",
       "  <tbody>\n",
       "    <tr>\n",
       "      <th>0</th>\n",
       "      <td>ft_42</td>\n",
       "      <td>db_2604</td>\n",
       "      <td>1.000000</td>\n",
       "      <td>IBM</td>\n",
       "      <td>IBM</td>\n",
       "      <td>True</td>\n",
       "    </tr>\n",
       "    <tr>\n",
       "      <th>1</th>\n",
       "      <td>ft_1268</td>\n",
       "      <td>db_6831</td>\n",
       "      <td>1.000000</td>\n",
       "      <td>Jyske Bank</td>\n",
       "      <td>Jyske Bank</td>\n",
       "      <td>True</td>\n",
       "    </tr>\n",
       "    <tr>\n",
       "      <th>2</th>\n",
       "      <td>ft_455</td>\n",
       "      <td>db_5001</td>\n",
       "      <td>1.000000</td>\n",
       "      <td>Steinhoff International</td>\n",
       "      <td>Steinhoff International</td>\n",
       "      <td>True</td>\n",
       "    </tr>\n",
       "    <tr>\n",
       "      <th>3</th>\n",
       "      <td>ft_1591</td>\n",
       "      <td>db_4623</td>\n",
       "      <td>1.000000</td>\n",
       "      <td>Avis Budget Group</td>\n",
       "      <td>Avis Budget Group</td>\n",
       "      <td>True</td>\n",
       "    </tr>\n",
       "    <tr>\n",
       "      <th>4</th>\n",
       "      <td>ft_131</td>\n",
       "      <td>db_984</td>\n",
       "      <td>1.000000</td>\n",
       "      <td>Banco do Brasil</td>\n",
       "      <td>Banco do Brasil</td>\n",
       "      <td>True</td>\n",
       "    </tr>\n",
       "    <tr>\n",
       "      <th>...</th>\n",
       "      <td>...</td>\n",
       "      <td>...</td>\n",
       "      <td>...</td>\n",
       "      <td>...</td>\n",
       "      <td>...</td>\n",
       "      <td>...</td>\n",
       "    </tr>\n",
       "    <tr>\n",
       "      <th>402</th>\n",
       "      <td>ft_898</td>\n",
       "      <td>db_4964</td>\n",
       "      <td>0.903226</td>\n",
       "      <td>L3 Technologies</td>\n",
       "      <td>RW3 Technologies</td>\n",
       "      <td>False</td>\n",
       "    </tr>\n",
       "    <tr>\n",
       "      <th>403</th>\n",
       "      <td>ft_936</td>\n",
       "      <td>db_626</td>\n",
       "      <td>0.900000</td>\n",
       "      <td>CMS Energy</td>\n",
       "      <td>CPS Energy</td>\n",
       "      <td>False</td>\n",
       "    </tr>\n",
       "    <tr>\n",
       "      <th>404</th>\n",
       "      <td>ft_1632</td>\n",
       "      <td>db_5148</td>\n",
       "      <td>0.833333</td>\n",
       "      <td>SBI Holdings</td>\n",
       "      <td>CIC Holdings</td>\n",
       "      <td>False</td>\n",
       "    </tr>\n",
       "    <tr>\n",
       "      <th>405</th>\n",
       "      <td>ft_481</td>\n",
       "      <td>db_8776</td>\n",
       "      <td>0.864865</td>\n",
       "      <td>Micron Technology</td>\n",
       "      <td>Microchip Technology</td>\n",
       "      <td>False</td>\n",
       "    </tr>\n",
       "    <tr>\n",
       "      <th>406</th>\n",
       "      <td>ft_1160</td>\n",
       "      <td>db_9859</td>\n",
       "      <td>0.850000</td>\n",
       "      <td>SVB Financial Group</td>\n",
       "      <td>Banif Financial Group</td>\n",
       "      <td>False</td>\n",
       "    </tr>\n",
       "  </tbody>\n",
       "</table>\n",
       "<p>407 rows × 6 columns</p>\n",
       "</div>"
      ],
      "text/plain": [
       "       ft_id    db_id  LevScore                       ft  \\\n",
       "0      ft_42  db_2604  1.000000                      IBM   \n",
       "1    ft_1268  db_6831  1.000000               Jyske Bank   \n",
       "2     ft_455  db_5001  1.000000  Steinhoff International   \n",
       "3    ft_1591  db_4623  1.000000        Avis Budget Group   \n",
       "4     ft_131   db_984  1.000000          Banco do Brasil   \n",
       "..       ...      ...       ...                      ...   \n",
       "402   ft_898  db_4964  0.903226          L3 Technologies   \n",
       "403   ft_936   db_626  0.900000               CMS Energy   \n",
       "404  ft_1632  db_5148  0.833333             SBI Holdings   \n",
       "405   ft_481  db_8776  0.864865        Micron Technology   \n",
       "406  ft_1160  db_9859  0.850000      SVB Financial Group   \n",
       "\n",
       "                     dbpedia  label  \n",
       "0                        IBM   True  \n",
       "1                 Jyske Bank   True  \n",
       "2    Steinhoff International   True  \n",
       "3          Avis Budget Group   True  \n",
       "4            Banco do Brasil   True  \n",
       "..                       ...    ...  \n",
       "402         RW3 Technologies  False  \n",
       "403               CPS Energy  False  \n",
       "404             CIC Holdings  False  \n",
       "405     Microchip Technology  False  \n",
       "406    Banif Financial Group  False  \n",
       "\n",
       "[407 rows x 6 columns]"
      ]
     },
     "execution_count": 11,
     "metadata": {},
     "output_type": "execute_result"
    }
   ],
   "source": [
    "gold_standard_ft_db = pd.concat([true_sample,false_sample])\n",
    "gold_standard_ft_db = gold_standard_ft_db.merge(ft, how='left', left_on='ft', right_on='Company')\n",
    "gold_standard_ft_db.rename(columns={'id':'ft_id'}, inplace = True)\n",
    "gold_standard_ft_db = gold_standard_ft_db.merge(dbpedia, how = 'left', left_on = 'dbpedia', right_on = 'name')\n",
    "gold_standard_ft_db.rename(columns={'id':'db_id'}, inplace = True)\n",
    "gold_standard_ft_db = gold_standard_ft_db[['ft_id', 'db_id', 'LevScore', 'ft', 'dbpedia']]\n",
    "gold_standard_ft_db['label'] = gold_standard_ft_db.apply(lambda x: True if x['LevScore'] == 1 else False, axis = 1)\n",
    "gold_standard_ft_db"
   ]
  }
 ],
 "metadata": {
  "kernelspec": {
   "display_name": "Python 3.10.8 64-bit (microsoft store)",
   "language": "python",
   "name": "python3"
  },
  "language_info": {
   "codemirror_mode": {
    "name": "ipython",
    "version": 3
   },
   "file_extension": ".py",
   "mimetype": "text/x-python",
   "name": "python",
   "nbconvert_exporter": "python",
   "pygments_lexer": "ipython3",
   "version": "3.10.8"
  },
  "orig_nbformat": 4,
  "vscode": {
   "interpreter": {
    "hash": "8c710004f85f120fcbb17e5d410e094674df026d529af3f36d979791ae108c09"
   }
  }
 },
 "nbformat": 4,
 "nbformat_minor": 2
}
