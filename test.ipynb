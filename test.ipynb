{
 "cells": [
  {
   "cell_type": "code",
   "execution_count": 25,
   "metadata": {},
   "outputs": [],
   "source": [
    "import numpy as np\n",
    "import pandas as pd\n",
    "import Levenshtein as lev\n",
    "from itertools import product"
   ]
  },
  {
   "cell_type": "code",
   "execution_count": null,
   "metadata": {},
   "outputs": [],
   "source": [
    "sevMil = pd.read_csv(\"companies_sorted.csv\")\n",
    "ft = pd.read_csv(\"Forbes Top2000 2017.csv\")\n",
    "db = pd.read_csv(\"sparql_2022-10-02_13-24-07Z.csv\")"
   ]
  },
  {
   "cell_type": "code",
   "execution_count": 10,
   "metadata": {},
   "outputs": [],
   "source": [
    "sevMil = sevMil[['name']]\n",
    "sevMil['id'] =  range(len(sevMil))\n",
    "sevMil['id'] = \"7.1M_\" + sevMil['id'].astype(str)"
   ]
  },
  {
   "cell_type": "code",
   "execution_count": 12,
   "metadata": {},
   "outputs": [],
   "source": [
    "ft = ft[['Company']]\n",
    "ft['id'] =  range(len(ft))\n",
    "ft['id'] = \"ft_\" + ft['id'].astype(str)"
   ]
  },
  {
   "cell_type": "code",
   "execution_count": null,
   "metadata": {},
   "outputs": [],
   "source": [
    "dbpedia = db[['name']]\n",
    "dbpedia['id'] =  range(len(db))\n",
    "dbpedia['id'] = \"db_\" + dbpedia['id'].astype(str)"
   ]
  },
  {
   "cell_type": "code",
   "execution_count": 27,
   "metadata": {},
   "outputs": [],
   "source": [
    "new_df = pd.DataFrame(product(ft['Company'], dbpedia['name']), columns=[\"ft\",\"dbpedia\"])\n",
    "\n",
    "new_df[\"LevScore\"] = new_df.apply(lambda x: lev.ratio(x[0],x[1]), axis=1)"
   ]
  },
  {
   "cell_type": "code",
   "execution_count": null,
   "metadata": {},
   "outputs": [],
   "source": [
    "new_df2 = new_df[new_df['LevScore'] > 0.8]"
   ]
  },
  {
   "cell_type": "code",
   "execution_count": null,
   "metadata": {},
   "outputs": [],
   "source": [
    "confirmed_true = new_df2[new_df2['LevScore'] == 1]\n",
    "edge_cases = new_df2[new_df2['LevScore'] != 1]"
   ]
  },
  {
   "cell_type": "code",
   "execution_count": null,
   "metadata": {},
   "outputs": [],
   "source": [
    "true_sample = confirmed_true.sample(200)\n",
    "false_sample = edge_cases.sample(200)"
   ]
  },
  {
   "cell_type": "code",
   "execution_count": 73,
   "metadata": {},
   "outputs": [
    {
     "data": {
      "text/html": [
       "<div>\n",
       "<style scoped>\n",
       "    .dataframe tbody tr th:only-of-type {\n",
       "        vertical-align: middle;\n",
       "    }\n",
       "\n",
       "    .dataframe tbody tr th {\n",
       "        vertical-align: top;\n",
       "    }\n",
       "\n",
       "    .dataframe thead th {\n",
       "        text-align: right;\n",
       "    }\n",
       "</style>\n",
       "<table border=\"1\" class=\"dataframe\">\n",
       "  <thead>\n",
       "    <tr style=\"text-align: right;\">\n",
       "      <th></th>\n",
       "      <th>ft_id</th>\n",
       "      <th>db_id</th>\n",
       "      <th>LevScore</th>\n",
       "      <th>ft</th>\n",
       "      <th>dbpedia</th>\n",
       "    </tr>\n",
       "  </thead>\n",
       "  <tbody>\n",
       "    <tr>\n",
       "      <th>0</th>\n",
       "      <td>ft_33</td>\n",
       "      <td>db_5471</td>\n",
       "      <td>1.000000</td>\n",
       "      <td>Bank of Communications</td>\n",
       "      <td>Bank of Communications</td>\n",
       "    </tr>\n",
       "    <tr>\n",
       "      <th>1</th>\n",
       "      <td>ft_1578</td>\n",
       "      <td>db_3816</td>\n",
       "      <td>1.000000</td>\n",
       "      <td>Royal Mail</td>\n",
       "      <td>Royal Mail</td>\n",
       "    </tr>\n",
       "    <tr>\n",
       "      <th>2</th>\n",
       "      <td>ft_1819</td>\n",
       "      <td>db_9442</td>\n",
       "      <td>1.000000</td>\n",
       "      <td>Umicore</td>\n",
       "      <td>Umicore</td>\n",
       "    </tr>\n",
       "    <tr>\n",
       "      <th>3</th>\n",
       "      <td>ft_1204</td>\n",
       "      <td>db_4662</td>\n",
       "      <td>1.000000</td>\n",
       "      <td>SCANA</td>\n",
       "      <td>SCANA</td>\n",
       "    </tr>\n",
       "    <tr>\n",
       "      <th>4</th>\n",
       "      <td>ft_1215</td>\n",
       "      <td>db_3083</td>\n",
       "      <td>1.000000</td>\n",
       "      <td>Avnet</td>\n",
       "      <td>Avnet</td>\n",
       "    </tr>\n",
       "    <tr>\n",
       "      <th>...</th>\n",
       "      <td>...</td>\n",
       "      <td>...</td>\n",
       "      <td>...</td>\n",
       "      <td>...</td>\n",
       "      <td>...</td>\n",
       "    </tr>\n",
       "    <tr>\n",
       "      <th>402</th>\n",
       "      <td>ft_1199</td>\n",
       "      <td>db_3122</td>\n",
       "      <td>0.842105</td>\n",
       "      <td>Arab National Bank</td>\n",
       "      <td>Punjab National Bank</td>\n",
       "    </tr>\n",
       "    <tr>\n",
       "      <th>403</th>\n",
       "      <td>ft_409</td>\n",
       "      <td>db_3267</td>\n",
       "      <td>0.820513</td>\n",
       "      <td>Magna International</td>\n",
       "      <td>Harman International</td>\n",
       "    </tr>\n",
       "    <tr>\n",
       "      <th>404</th>\n",
       "      <td>ft_1310</td>\n",
       "      <td>db_9877</td>\n",
       "      <td>0.827586</td>\n",
       "      <td>Dxc Technology</td>\n",
       "      <td>Beck Technology</td>\n",
       "    </tr>\n",
       "    <tr>\n",
       "      <th>405</th>\n",
       "      <td>ft_52</td>\n",
       "      <td>db_3782</td>\n",
       "      <td>0.888889</td>\n",
       "      <td>ING Group</td>\n",
       "      <td>PIN Group</td>\n",
       "    </tr>\n",
       "    <tr>\n",
       "      <th>406</th>\n",
       "      <td>ft_1413</td>\n",
       "      <td>db_7124</td>\n",
       "      <td>0.864865</td>\n",
       "      <td>Olam International</td>\n",
       "      <td>Camps International</td>\n",
       "    </tr>\n",
       "  </tbody>\n",
       "</table>\n",
       "<p>407 rows × 5 columns</p>\n",
       "</div>"
      ],
      "text/plain": [
       "       ft_id    db_id  LevScore                      ft  \\\n",
       "0      ft_33  db_5471  1.000000  Bank of Communications   \n",
       "1    ft_1578  db_3816  1.000000              Royal Mail   \n",
       "2    ft_1819  db_9442  1.000000                 Umicore   \n",
       "3    ft_1204  db_4662  1.000000                   SCANA   \n",
       "4    ft_1215  db_3083  1.000000                   Avnet   \n",
       "..       ...      ...       ...                     ...   \n",
       "402  ft_1199  db_3122  0.842105      Arab National Bank   \n",
       "403   ft_409  db_3267  0.820513     Magna International   \n",
       "404  ft_1310  db_9877  0.827586          Dxc Technology   \n",
       "405    ft_52  db_3782  0.888889               ING Group   \n",
       "406  ft_1413  db_7124  0.864865      Olam International   \n",
       "\n",
       "                    dbpedia  \n",
       "0    Bank of Communications  \n",
       "1                Royal Mail  \n",
       "2                   Umicore  \n",
       "3                     SCANA  \n",
       "4                     Avnet  \n",
       "..                      ...  \n",
       "402    Punjab National Bank  \n",
       "403    Harman International  \n",
       "404         Beck Technology  \n",
       "405               PIN Group  \n",
       "406     Camps International  \n",
       "\n",
       "[407 rows x 5 columns]"
      ]
     },
     "execution_count": 73,
     "metadata": {},
     "output_type": "execute_result"
    }
   ],
   "source": [
    "gold_standard_ft_db = pd.concat([true_sample,false_sample])\n",
    "gold_standard_ft_db = gold_standard_ft_db.merge(ft, how='left', left_on='ft', right_on='Company')\n",
    "gold_standard_ft_db.rename(columns={'id':'ft_id'}, inplace = True)\n",
    "gold_standard_ft_db = gold_standard_ft_db.merge(dbpedia, how = 'left', left_on = 'dbpedia', right_on = 'name')\n",
    "gold_standard_ft_db.rename(columns={'id':'db_id'}, inplace = True)\n",
    "gold_standard_ft_db = gold_standard_ft_db[['ft_id', 'db_id', 'LevScore', 'ft', 'dbpedia']]\n"
   ]
  }
 ],
 "metadata": {
  "kernelspec": {
   "display_name": "Python 3.10.8 64-bit (microsoft store)",
   "language": "python",
   "name": "python3"
  },
  "language_info": {
   "codemirror_mode": {
    "name": "ipython",
    "version": 3
   },
   "file_extension": ".py",
   "mimetype": "text/x-python",
   "name": "python",
   "nbconvert_exporter": "python",
   "pygments_lexer": "ipython3",
   "version": "3.10.8"
  },
  "orig_nbformat": 4,
  "vscode": {
   "interpreter": {
    "hash": "8c710004f85f120fcbb17e5d410e094674df026d529af3f36d979791ae108c09"
   }
  }
 },
 "nbformat": 4,
 "nbformat_minor": 2
}
